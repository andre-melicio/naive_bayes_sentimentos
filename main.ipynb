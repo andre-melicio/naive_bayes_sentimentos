{
 "cells": [
  {
   "cell_type": "markdown",
   "metadata": {},
   "source": [
    "Primeiro, instale as bibliotecas necessárias"
   ]
  },
  {
   "cell_type": "code",
   "execution_count": null,
   "metadata": {},
   "outputs": [],
   "source": [
    "pip install scikit-learn nltk\n"
   ]
  },
  {
   "cell_type": "markdown",
   "metadata": {},
   "source": [
    "Agora, importe as bibliotecas que serão utilizadas:"
   ]
  },
  {
   "cell_type": "code",
   "execution_count": 22,
   "metadata": {},
   "outputs": [],
   "source": [
    "from sklearn.feature_extraction.text import CountVectorizer\n",
    "from sklearn.naive_bayes import MultinomialNB\n",
    "from sklearn.model_selection import train_test_split\n",
    "from sklearn.metrics import accuracy_score\n"
   ]
  },
  {
   "cell_type": "markdown",
   "metadata": {},
   "source": [
    "Vamos criar um conjunto de dados fictício para treinar e testar nosso modelo:"
   ]
  },
  {
   "cell_type": "code",
   "execution_count": 23,
   "metadata": {},
   "outputs": [],
   "source": [
    "# Conjunto de dados de exemplo\n",
    "frases = [\n",
    "    \"Eu amo este lugar\",\n",
    "    \"O filme foi horrível\",\n",
    "    \"A comida estava boa\",\n",
    "    \"O serviço foi mediano\",\n",
    "    \"Eu detestei o trânsito hoje\",\n",
    "    \"O dia está ok\",\n",
    "    \"Eu estou muito feliz hoje\",\n",
    "    \"Estou triste com as notícias\",\n",
    "    \"O clima está ótimo\",\n",
    "    \"Não gostei do atendimento\",\n",
    "    \"Atendimento terrível\",\n",
    "]\n",
    "\n",
    "sentimentos = [\"positivo\", \"negativo\", \"positivo\", \"neutro\", \"negativo\", \"neutro\", \"positivo\", \"negativo\", \"positivo\", \"negativo\", \"negativo\"]\n"
   ]
  },
  {
   "cell_type": "markdown",
   "metadata": {},
   "source": [
    "Neste passo, vamos transformar as frases em uma matriz de contagem usando o CountVectorizer:"
   ]
  },
  {
   "cell_type": "code",
   "execution_count": 24,
   "metadata": {},
   "outputs": [
    {
     "name": "stdout",
     "output_type": "stream",
     "text": [
      "Vocabulário: ['amo' 'as' 'atendimento' 'boa' 'clima' 'com' 'comida' 'detestei' 'dia'\n",
      " 'do' 'estava' 'este' 'estou' 'está' 'eu' 'feliz' 'filme' 'foi' 'gostei'\n",
      " 'hoje' 'horrível' 'lugar' 'mediano' 'muito' 'notícias' 'não' 'ok'\n",
      " 'serviço' 'terrível' 'triste' 'trânsito' 'ótimo']\n"
     ]
    }
   ],
   "source": [
    "# Inicializando o CountVectorizer para transformar as frases em uma matriz de contagem\n",
    "vectorizer = CountVectorizer()\n",
    "\n",
    "# Transformando as frases em uma matriz de contagem\n",
    "X = vectorizer.fit_transform(frases)\n",
    "\n",
    "# Exibindo o vocabulário gerado\n",
    "print(\"Vocabulário:\", vectorizer.get_feature_names_out())\n"
   ]
  },
  {
   "cell_type": "markdown",
   "metadata": {},
   "source": [
    "Vamos dividir os dados em conjuntos de treinamento e teste para avaliar o desempenho dos modelos:"
   ]
  },
  {
   "cell_type": "code",
   "execution_count": 25,
   "metadata": {},
   "outputs": [],
   "source": [
    "# Dividindo os dados em treinamento e teste\n",
    "X_train, X_test, y_train, y_test = train_test_split(X, sentimentos, test_size=0.3, random_state=42)\n"
   ]
  },
  {
   "cell_type": "markdown",
   "metadata": {},
   "source": [
    "O Naive Bayes com suavização de Laplace com α=1. Vamos treinar o modelo com essa configuração:"
   ]
  },
  {
   "cell_type": "code",
   "execution_count": 26,
   "metadata": {},
   "outputs": [
    {
     "name": "stdout",
     "output_type": "stream",
     "text": [
      "Acurácia com suavização de Laplace (α=1): 0.2500\n"
     ]
    }
   ],
   "source": [
    "# Modelo com suavização de Laplace (α=1)\n",
    "modelo_laplace = MultinomialNB(alpha=1.0)\n",
    "modelo_laplace.fit(X_train, y_train)\n",
    "pred_laplace = modelo_laplace.predict(X_test)\n",
    "\n",
    "# Avaliação do modelo\n",
    "acc_laplace = accuracy_score(y_test, pred_laplace)\n",
    "print(f\"Acurácia com suavização de Laplace (α=1): {acc_laplace:.4f}\")\n"
   ]
  },
  {
   "cell_type": "markdown",
   "metadata": {},
   "source": [
    "Agora, treinamos o modelo Naive Bayes com suavização de Lidstone, usando um valor diferente de α (por exemplo, α=0.5):"
   ]
  },
  {
   "cell_type": "code",
   "execution_count": 27,
   "metadata": {},
   "outputs": [
    {
     "name": "stdout",
     "output_type": "stream",
     "text": [
      "Acurácia com suavização de Lidstone (α=0.5): 0.2500\n"
     ]
    }
   ],
   "source": [
    "# Modelo com suavização de Lidstone (α=0.5)\n",
    "modelo_lidstone = MultinomialNB(alpha=0.5)\n",
    "modelo_lidstone.fit(X_train, y_train)\n",
    "pred_lidstone = modelo_lidstone.predict(X_test)\n",
    "\n",
    "# Avaliação do modelo\n",
    "acc_lidstone = accuracy_score(y_test, pred_lidstone)\n",
    "print(f\"Acurácia com suavização de Lidstone (α=0.5): {acc_lidstone:.4f}\")\n"
   ]
  },
  {
   "cell_type": "markdown",
   "metadata": {},
   "source": [
    "Com as previsões feitas pelos dois modelos, vamos comparar suas acurácias:"
   ]
  },
  {
   "cell_type": "code",
   "execution_count": 28,
   "metadata": {},
   "outputs": [
    {
     "name": "stdout",
     "output_type": "stream",
     "text": [
      "Acurácia com suavização de Laplace (α=1): 0.2500\n",
      "Acurácia com suavização de Lidstone (α=0.5): 0.2500\n"
     ]
    }
   ],
   "source": [
    "print(f\"Acurácia com suavização de Laplace (α=1): {acc_laplace:.4f}\")\n",
    "print(f\"Acurácia com suavização de Lidstone (α=0.5): {acc_lidstone:.4f}\")\n"
   ]
  },
  {
   "cell_type": "markdown",
   "metadata": {},
   "source": [
    "Finalmente, vamos classificar novas frases usando ambos os modelos para ver como eles se comportam"
   ]
  },
  {
   "cell_type": "code",
   "execution_count": 30,
   "metadata": {},
   "outputs": [
    {
     "name": "stdout",
     "output_type": "stream",
     "text": [
      "Classificação com Laplace: ['positivo' 'negativo' 'negativo' 'positivo' 'negativo']\n",
      "Classificação com Lidstone: ['positivo' 'neutro' 'negativo' 'positivo' 'neutro']\n"
     ]
    }
   ],
   "source": [
    "# Novas frases para classificação\n",
    "novas_frases = [\"Eu adorei a experiência\", \"Foi um dia terrível\", \"Nada mal, nada bem\", \"Atendimento excelente\", \"O filme foi mediano\"]\n",
    "\n",
    "# Transformando as novas frases na matriz de contagem\n",
    "X_novas_frases = vectorizer.transform(novas_frases)\n",
    "\n",
    "# Classificação com o modelo de Laplace\n",
    "classificacao_laplace = modelo_laplace.predict(X_novas_frases)\n",
    "print(\"Classificação com Laplace:\", classificacao_laplace)\n",
    "\n",
    "# Classificação com o modelo de Lidstone\n",
    "classificacao_lidstone = modelo_lidstone.predict(X_novas_frases)\n",
    "print(\"Classificação com Lidstone:\", classificacao_lidstone)\n"
   ]
  },
  {
   "cell_type": "markdown",
   "metadata": {},
   "source": [
    "Conclusão dos Resultados\n",
    "Modelo com Laplace (α=1):\n",
    "\n",
    "Tende a ser mais assertivo e direto na classificação, especialmente em contextos onde há palavras com conotações negativas ou positivas claras. No entanto, isso pode levar a uma superestimação de sentimentos negativos em frases ambíguas ou moderadas.\n",
    "Modelo com Lidstone (α=0.5):\n",
    "\n",
    "Apresenta uma abordagem mais suave e, como resultado, pode classificar algumas frases potencialmente negativas como neutras. Isso pode ser benéfico em casos onde a linguagem é menos direta ou mais ambígua, mas também pode fazer com que o modelo subestime a polaridade em casos mais claros."
   ]
  }
 ],
 "metadata": {
  "kernelspec": {
   "display_name": ".venv",
   "language": "python",
   "name": "python3"
  },
  "language_info": {
   "codemirror_mode": {
    "name": "ipython",
    "version": 3
   },
   "file_extension": ".py",
   "mimetype": "text/x-python",
   "name": "python",
   "nbconvert_exporter": "python",
   "pygments_lexer": "ipython3",
   "version": "3.12.3"
  }
 },
 "nbformat": 4,
 "nbformat_minor": 2
}
